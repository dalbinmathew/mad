{
 "cells": [
  {
   "cell_type": "code",
   "execution_count": null,
   "metadata": {},
   "outputs": [],
   "source": [
    "scrollview"
   ]
  },
  {
   "cell_type": "code",
   "execution_count": null,
   "metadata": {},
   "outputs": [],
   "source": [
    "<?xml version=\"1.0\" encoding=\"utf-8\"?>\n",
    "<androidx.constraintlayout.widget.ConstraintLayout xmlns:android=\"http://schemas.android.com/apk/res/android\"\n",
    "    xmlns:app=\"http://schemas.android.com/apk/res-auto\"\n",
    "    xmlns:tools=\"http://schemas.android.com/tools\"\n",
    "    android:id=\"@+id/main\"\n",
    "    android:layout_width=\"match_parent\"\n",
    "    android:layout_height=\"match_parent\"\n",
    "    tools:context=\".MainActivity\">\n",
    "\n",
    "    <ScrollView\n",
    "        android:id=\"@+id/scrollview\"\n",
    "        android:layout_width=\"412dp\"\n",
    "        android:layout_height=\"735dp\"\n",
    "        android:layout_marginStart=\"1dp\"\n",
    "        android:layout_marginTop=\"1dp\"\n",
    "        app:layout_constraintBottom_toBottomOf=\"parent\"\n",
    "        app:layout_constraintEnd_toEndOf=\"parent\"\n",
    "        app:layout_constraintStart_toStartOf=\"parent\"\n",
    "        app:layout_constraintTop_toTopOf=\"parent\">\n",
    "\n",
    "        <TextView\n",
    "            android:id=\"@+id/textView\"\n",
    "            android:layout_width=\"match_parent\"\n",
    "            android:layout_height=\"wrap_content\"\n",
    "            android:text=\"@string/scrolltext\"\n",
    "            android:textSize=\"30sp\"\n",
    "            android:textStyle=\"bold\" />\n",
    "    </ScrollView>\n",
    "\n",
    "</androidx.constraintlayout.widget.ConstraintLayout>"
   ]
  },
  {
   "cell_type": "code",
   "execution_count": null,
   "metadata": {},
   "outputs": [],
   "source": [
    "package com.example.scrollview;\n",
    "\n",
    "import android.os.Bundle;\n",
    "\n",
    "import androidx.activity.EdgeToEdge;\n",
    "import androidx.appcompat.app.AppCompatActivity;\n",
    "import androidx.core.graphics.Insets;\n",
    "import androidx.core.view.ViewCompat;\n",
    "import androidx.core.view.WindowInsetsCompat;\n",
    "\n",
    "public class MainActivity extends AppCompatActivity {\n",
    "\n",
    "    @Override\n",
    "    protected void onCreate(Bundle savedInstanceState) {\n",
    "        super.onCreate(savedInstanceState);\n",
    "        EdgeToEdge.enable(this);\n",
    "        setContentView(R.layout.activity_main);\n",
    "        ViewCompat.setOnApplyWindowInsetsListener(findViewById(R.id.main), (v, insets) -> {\n",
    "            Insets systemBars = insets.getInsets(WindowInsetsCompat.Type.systemBars());\n",
    "            v.setPadding(systemBars.left, systemBars.top, systemBars.right, systemBars.bottom);\n",
    "            return insets;\n",
    "        });\n",
    "    }\n",
    "}"
   ]
  },
  {
   "cell_type": "code",
   "execution_count": null,
   "metadata": {},
   "outputs": [],
   "source": [
    "strings.xml  below "
   ]
  },
  {
   "cell_type": "code",
   "execution_count": null,
   "metadata": {},
   "outputs": [],
   "source": [
    "<resources>\n",
    "    <string name=\"app_name\">Scroll View</string>\n",
    "    <string name=\"scrolltext\">\n",
    "        ScrollView is a layout container that allows its child views\n",
    "        to be scrollable vertically.\n",
    "        It\\'s useful when you have content that exceeds the screen height and want to\n",
    "        provide the user with a way to scroll through it.\n",
    "\n",
    "        ScrollView enables vertical scrolling for its SINGLE child view.\n",
    "\n",
    "        String resources are located at `res/values/string.xml`.\n",
    "\n",
    "        Lorem ipsum dolor sit amet, consectetur adipiscing elit.\n",
    "        Duis vel tristique turpis, vitae ullamcorper nisi. Nulla tristique tempor\n",
    "        tortor ut faucibus. Aenean in egestas lectus. Sed hendrerit nunc vitae neque finibus dapibus.\n",
    "        Suspendisse ultricies vulputate maximus. Praesent vel augue ut erat euismod sollicitudin\n",
    "        ac nec lacus. Vivamus rhoncus in neque et commodo.\n",
    "        Nam ac euismod tortor. Vivamus tempus lacinia nisl sit amet tincidunt. Vivamus\n",
    "        lacinia condimentum magna a egestas. Fusce eget varius dolor. Integer dui eros,\n",
    "        ultricies at dui et, lacinia efficitur turpis. Donec id eros finibus, tincidunt\n",
    "        ante vel, dignissim nunc. Aenean interdum massa at elementum pellentesque.\n",
    "\n",
    "        Fusce sagittis justo in risus iaculis, vitae malesuada arcu ultrices.\n",
    "        Etiam quis pulvinar metus. Fusce augue eros, sagittis vitae fringilla\n",
    "        vitae, imperdiet a mauris. Cras sit amet orci sit amet orci varius auctor.\n",
    "        Pellentesque sodales velit in ultricies ultrices. In iaculis sem et tortor bibendum,\n",
    "        id lobortis eros efficitur. Nam euismod ultrices consequat.\n",
    "        Lorem ipsum dolor sit amet, consectetur adipiscing elit. Etiam porta, nisl eu\n",
    "        aliquam porttitor, enim ligula suscipit purus, et bibendum turpis arcu sed lorem.\n",
    "        Nullam scelerisque sapien quis tincidunt tincidunt. Sed orci leo, eleifend quis\n",
    "        orci non, euismod tincidunt lacus.\n",
    "    </string>\n",
    "</resources>"
   ]
  }
 ],
 "metadata": {
  "language_info": {
   "name": "python"
  }
 },
 "nbformat": 4,
 "nbformat_minor": 2
}
