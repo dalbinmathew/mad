{
 "cells": [
  {
   "cell_type": "code",
   "execution_count": null,
   "metadata": {},
   "outputs": [],
   "source": [
    "listview"
   ]
  },
  {
   "cell_type": "code",
   "execution_count": null,
   "metadata": {},
   "outputs": [],
   "source": [
    "<?xml version=\"1.0\" encoding=\"utf-8\"?>\n",
    "<androidx.constraintlayout.widget.ConstraintLayout xmlns:android=\"http://schemas.android.com/apk/res/android\"\n",
    "    xmlns:app=\"http://schemas.android.com/apk/res-auto\"\n",
    "    xmlns:tools=\"http://schemas.android.com/tools\"\n",
    "    android:id=\"@+id/main\"\n",
    "    android:layout_width=\"match_parent\"\n",
    "    android:layout_height=\"match_parent\"\n",
    "    tools:context=\".MainActivity\">\n",
    "\n",
    "    <ListView\n",
    "        android:id=\"@+id/listview\"\n",
    "        android:layout_width=\"409dp\"\n",
    "        android:layout_height=\"729dp\"\n",
    "        android:layout_marginStart=\"1dp\"\n",
    "        android:layout_marginTop=\"1dp\"\n",
    "        android:layout_marginEnd=\"1dp\"\n",
    "        android:layout_marginBottom=\"1dp\"\n",
    "        app:layout_constraintBottom_toBottomOf=\"parent\"\n",
    "        app:layout_constraintEnd_toEndOf=\"parent\"\n",
    "        app:layout_constraintStart_toStartOf=\"parent\"\n",
    "        app:layout_constraintTop_toTopOf=\"parent\" />\n",
    "</androidx.constraintlayout.widget.ConstraintLayout>"
   ]
  },
  {
   "cell_type": "code",
   "execution_count": null,
   "metadata": {},
   "outputs": [],
   "source": [
    "package com.example.listview;\n",
    "\n",
    "import android.os.Bundle;\n",
    "import android.view.View;\n",
    "import android.widget.AdapterView;\n",
    "import android.widget.ArrayAdapter;\n",
    "import android.widget.ListView;\n",
    "import android.widget.Toast;\n",
    "\n",
    "import androidx.activity.EdgeToEdge;\n",
    "import androidx.appcompat.app.AppCompatActivity;\n",
    "import androidx.core.graphics.Insets;\n",
    "import androidx.core.view.ViewCompat;\n",
    "import androidx.core.view.WindowInsetsCompat;\n",
    "\n",
    "import com.example.listviewscrollviewspinner.R;\n",
    "\n",
    "public class MainActivity extends AppCompatActivity {\n",
    "\n",
    "    ListView listView;\n",
    "    String[] arr;\n",
    "\n",
    "    @Override\n",
    "    protected void onCreate(Bundle savedInstanceState) {\n",
    "        super.onCreate(savedInstanceState);\n",
    "        EdgeToEdge.enable(this);\n",
    "        setContentView(R.layout.activity_main);\n",
    "\n",
    "        listView = (ListView) findViewById(R.id.listview);\n",
    "        arr = new String[]{\"1\",\"2\",\"3\",\"4\",\"5\",\"6\",\"7\",\"8\",\"9\",\"10\",\"11\",\"12\",\"13\",\"14\",\"15\",\"16\",\"17\",\"18\",\"19\",\"20\"};\n",
    "\n",
    "        // Create an ArrayAdapter using the string array and a default spinner layout\n",
    "        ArrayAdapter adapter=new ArrayAdapter(this, android.R.layout.simple_list_item_1,arr);\n",
    "        listView.setAdapter(adapter);\n",
    "\n",
    "        // Handle item click\n",
    "        listView.setOnItemClickListener(new AdapterView.OnItemClickListener() {\n",
    "            @Override\n",
    "            public void onItemClick(AdapterView<?> adapterView, View view, int i, long l) {\n",
    "                Toast.makeText(getApplicationContext(), \"Item \" + arr[i] + \" clicked\", Toast.LENGTH_SHORT).show();\n",
    "            }\n",
    "        });\n",
    "    }\n",
    "}"
   ]
  }
 ],
 "metadata": {
  "language_info": {
   "name": "python"
  }
 },
 "nbformat": 4,
 "nbformat_minor": 2
}
